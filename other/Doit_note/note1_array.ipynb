{
 "cells": [
  {
   "attachments": {},
   "cell_type": "markdown",
   "metadata": {},
   "source": [
    "# Note : Array"
   ]
  },
  {
   "attachments": {},
   "cell_type": "markdown",
   "metadata": {},
   "source": [
    "---\n",
    "# 알고리즘 start"
   ]
  },
  {
   "attachments": {},
   "cell_type": "markdown",
   "metadata": {},
   "source": [
    "## 1. 시간 복잡도"
   ]
  },
  {
   "attachments": {},
   "cell_type": "markdown",
   "metadata": {},
   "source": [
    "### 1) 표기법"
   ]
  },
  {
   "attachments": {},
   "cell_type": "markdown",
   "metadata": {},
   "source": [
    "- 빅오메가 : 최선일 때\n",
    "- 빅세타 : 보통일 때\n",
    "- **빅오 : 최악일 때**\n",
    "  - 코딩 테스트에서는 최악을 고려한 알고리즘을 선택해야함."
   ]
  },
  {
   "attachments": {},
   "cell_type": "markdown",
   "metadata": {},
   "source": [
    "<br> "
   ]
  },
  {
   "attachments": {},
   "cell_type": "markdown",
   "metadata": {},
   "source": [
    "### 2) 시간 복잡도 순서"
   ]
  },
  {
   "attachments": {},
   "cell_type": "markdown",
   "metadata": {},
   "source": [
    "logn < n < nlogn < n^2 < 2^n < n!"
   ]
  },
  {
   "attachments": {},
   "cell_type": "markdown",
   "metadata": {},
   "source": [
    "<br>\n"
   ]
  },
  {
   "attachments": {},
   "cell_type": "markdown",
   "metadata": {},
   "source": [
    "### 3) 연산 횟수"
   ]
  },
  {
   "attachments": {},
   "cell_type": "markdown",
   "metadata": {},
   "source": [
    "- 컴퓨터는 시간 1초당, 대략 1억번의 연산이 수행됨\n",
    "- 연산 횟수 : 알고리즘 시간 복잡도 X 테이터의 크기  \n",
    "ex) (0< n < 100)인 n이 주어지고 복잡도가 O(n^2)이라면, 연산 횟수는 약 100^2이다."
   ]
  },
  {
   "attachments": {},
   "cell_type": "markdown",
   "metadata": {},
   "source": [
    "<br> <br>"
   ]
  },
  {
   "attachments": {},
   "cell_type": "markdown",
   "metadata": {},
   "source": [
    "## 2. 디버깅"
   ]
  },
  {
   "attachments": {},
   "cell_type": "markdown",
   "metadata": {},
   "source": [
    "오류가 났을 때\n",
    "- 직접 실행하면서 찾아보는 로그탐색 방법이 있고,\n",
    "- IDE기능인 디버깅 기능을 활용해서 찾는 방법이 있다. <- 이걸 추천"
   ]
  },
  {
   "attachments": {},
   "cell_type": "markdown",
   "metadata": {},
   "source": [
    "<br> \n",
    "대표적인 오류 case로는 4가지가 있다.<br><br>\n",
    "- 변수 초기화(유무, 위치)<br>\n",
    "- 잘못된 변수 사용(i대신 arr사용하는 등)<br>\n",
    "- 배열 인덱스 범위(1차이로 잘못 지정)<br>\n",
    "- 자료형 범위(작게 지정해서 오버플로우 남)<br>"
   ]
  },
  {
   "attachments": {},
   "cell_type": "markdown",
   "metadata": {},
   "source": [
    "<br><br><br><br>"
   ]
  },
  {
   "attachments": {},
   "cell_type": "markdown",
   "metadata": {},
   "source": [
    "---\n",
    "# 배열, 문재열, 숫자 자료형 변환"
   ]
  },
  {
   "attachments": {},
   "cell_type": "markdown",
   "metadata": {},
   "source": [
    "## 1. 배열의 복사"
   ]
  },
  {
   "attachments": {},
   "cell_type": "markdown",
   "metadata": {},
   "source": [
    "1. 길이지정을 위한 Arrays.copyOf() 메소드\n",
    "2. 단순복사를 위한 Object.clone() 메소드"
   ]
  },
  {
   "cell_type": "code",
   "execution_count": null,
   "metadata": {},
   "outputs": [],
   "source": [
    "int[] arr1 = new int[]{1, 2, 3, 4, 5};\n",
    "\n",
    "\n",
    "// 1. Arrays 클래스의 copyOf() 메소드\n",
    "int[] arr2 = Arrays.copyOf(arr1, 10);\n",
    "\n",
    "// 2. Object 클래스의 clone() 메소드\n",
    "int[] arr3 = (int[])arr1.clone();"
   ]
  },
  {
   "attachments": {},
   "cell_type": "markdown",
   "metadata": {},
   "source": [
    "<br><br>"
   ]
  },
  {
   "attachments": {},
   "cell_type": "markdown",
   "metadata": {},
   "source": [
    "## 2. String to 배열"
   ]
  },
  {
   "attachments": {},
   "cell_type": "markdown",
   "metadata": {},
   "source": [
    "\"12345\"의 각 자리를 더하고 싶으면 /와 %를 통해 구할 수 있지만, 숫자가 엄청 커지면 long으로도 담을 수 없다.  \n",
    "그렇기에 값을 배열에 담은 후 각 문자를 숫자로 사용할 수 있도록 아스키코드를 활용하는 것이 한 방법이다."
   ]
  },
  {
   "attachments": {},
   "cell_type": "markdown",
   "metadata": {},
   "source": [
    "### 1) 문자열을 char형으로 배열에 담는 방법"
   ]
  },
  {
   "attachments": {},
   "cell_type": "markdown",
   "metadata": {},
   "source": [
    "- Object.toCharArray() 메소드"
   ]
  },
  {
   "cell_type": "code",
   "execution_count": null,
   "metadata": {},
   "outputs": [],
   "source": [
    "String s1 = \"12345\"\n",
    "char[] arr_c = s1.toCharArray();"
   ]
  },
  {
   "attachments": {},
   "cell_type": "markdown",
   "metadata": {},
   "source": [
    "<br>"
   ]
  },
  {
   "attachments": {},
   "cell_type": "markdown",
   "metadata": {},
   "source": [
    "### 2) 문자 '1'을 숫자 1로 바꾸는 법"
   ]
  },
  {
   "attachments": {},
   "cell_type": "markdown",
   "metadata": {},
   "source": [
    "아스키 코드를 사용하여 바꿔 사용할 수 있다. 문자 '1'은 아스키코드로 49이다. 또한 문자 '0'에다 1을 더한 값이기도 하다.  \n",
    "따라서 1은 다음과 같이 2가지의 방법으로 출력 가능하다.  "
   ]
  },
  {
   "cell_type": "code",
   "execution_count": null,
   "metadata": {},
   "outputs": [],
   "source": [
    "printf(\"%d\", '1' - 49);\n",
    "printf(\"%d\", '1' - '0');"
   ]
  },
  {
   "attachments": {},
   "cell_type": "markdown",
   "metadata": {},
   "source": [
    "<br>"
   ]
  },
  {
   "attachments": {},
   "cell_type": "markdown",
   "metadata": {},
   "source": [
    "<br>"
   ]
  },
  {
   "attachments": {},
   "cell_type": "markdown",
   "metadata": {},
   "source": [
    "## 3. String to 숫자"
   ]
  },
  {
   "attachments": {},
   "cell_type": "markdown",
   "metadata": {},
   "source": [
    "`자료형.valueOf(변수)`를 사용해서 문자열을 숫자형으로 바꿀 수 있다."
   ]
  },
  {
   "cell_type": "code",
   "execution_count": null,
   "metadata": {},
   "outputs": [],
   "source": [
    "String s1 = \"1234\";\n",
    "\n",
    "# 만드려는 자료형인 숫자 자료형 기준에서 사용하는 메소드 .valueOf()\n",
    "\n",
    "short num_short = Short.valueOf(s1);\n",
    "int num_int = Integer.valueOf(s1);\n",
    "long num_long = Long.valueOf(s1);\n",
    "float num_float = Float.valueOf(s1);\n",
    "double num_double = Double.valueOf(s1);\n",
    "\n",
    "# 또는 바뀌려는 자료형인 String기준에서 사용하는 메소드 .toInteger()\n",
    "int num_int2 = String.toInteger(s1);\n",
    "\n",
    "System.out.println(s1);\n",
    "System.out.println(num_short);\n",
    "System.out.println(num_int);\n",
    "System.out.println(num_long);\n",
    "System.out.println(num_float);\n",
    "System.out.println(num_double);"
   ]
  },
  {
   "attachments": {},
   "cell_type": "markdown",
   "metadata": {},
   "source": [
    "<br>"
   ]
  },
  {
   "attachments": {},
   "cell_type": "markdown",
   "metadata": {},
   "source": [
    "valueOf()는 copyOf()와 비슷하게 생겼다. 사용법도 마찬가지이다.  \n",
    "- 배열을 배열로 복사하려면 `Array.copyOf(배열)`  \n",
    "- 문자열을 숫자로 복사하려면 `Int.valueOf(문자열)`"
   ]
  },
  {
   "attachments": {},
   "cell_type": "markdown",
   "metadata": {},
   "source": [
    "<br>"
   ]
  },
  {
   "attachments": {},
   "cell_type": "markdown",
   "metadata": {},
   "source": [
    "<br><br>"
   ]
  },
  {
   "attachments": {},
   "cell_type": "markdown",
   "metadata": {},
   "source": [
    "## 4. 숫자 to String"
   ]
  },
  {
   "attachments": {},
   "cell_type": "markdown",
   "metadata": {},
   "source": [
    "String을 int로 바꾸려면, 2가지 방법이 있다 위에서 한 것 처럼  \n",
    "- int가 기준인 `Integer.valueOf(문자열)`\n",
    "- String이 기준인 `String.toInteger(문자열)`\n",
    "<br><br>\n",
    "마찬가지로 숫자에서 String으로 바뀔 때도 마찬가지이다.  \n",
    "- String을 만들고 싶다! `String.valueOf(숫자)`\n",
    "- Int에서 바뀌고 싶다! `Integer.toString(숫자)`\n",
    "\n",
    "\n"
   ]
  },
  {
   "attachments": {},
   "cell_type": "markdown",
   "metadata": {},
   "source": [
    "<br><br>"
   ]
  },
  {
   "attachments": {},
   "cell_type": "markdown",
   "metadata": {},
   "source": [
    "나는 .valueOf이 더 편한 것 같다. 어차피 변수에 담을 때 바뀔 자료형을 선언해줘야하기 때문이다.  \n",
    "또한 valueOf는 자료형 하나만 알면된다. 안에 들어가는게 int인지 long인지 몰라도 된다!!"
   ]
  },
  {
   "cell_type": "code",
   "execution_count": null,
   "metadata": {},
   "outputs": [],
   "source": []
  },
  {
   "cell_type": "code",
   "execution_count": null,
   "metadata": {},
   "outputs": [],
   "source": []
  },
  {
   "cell_type": "code",
   "execution_count": null,
   "metadata": {},
   "outputs": [],
   "source": []
  },
  {
   "cell_type": "code",
   "execution_count": null,
   "metadata": {},
   "outputs": [],
   "source": []
  },
  {
   "cell_type": "code",
   "execution_count": null,
   "metadata": {},
   "outputs": [],
   "source": []
  },
  {
   "cell_type": "code",
   "execution_count": null,
   "metadata": {},
   "outputs": [],
   "source": []
  }
 ],
 "metadata": {
  "kernelspec": {
   "display_name": "base",
   "language": "python",
   "name": "python3"
  },
  "language_info": {
   "codemirror_mode": {
    "name": "ipython",
    "version": 3
   },
   "file_extension": ".py",
   "mimetype": "text/x-python",
   "name": "python",
   "nbconvert_exporter": "python",
   "pygments_lexer": "ipython3",
   "version": "3.8.5"
  },
  "orig_nbformat": 4
 },
 "nbformat": 4,
 "nbformat_minor": 2
}
