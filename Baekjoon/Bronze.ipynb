{
 "cells": [
  {
   "attachments": {},
   "cell_type": "markdown",
   "metadata": {},
   "source": [
    "# Bronze3\n",
    "---"
   ]
  },
  {
   "attachments": {},
   "cell_type": "markdown",
   "metadata": {},
   "source": [
    "## 2588번 : 곱셈\n",
    "- b[::-1]을 사용해서 1의자리부터 가져와서 사용"
   ]
  },
  {
   "cell_type": "code",
   "execution_count": 9,
   "metadata": {},
   "outputs": [
    {
     "name": "stdout",
     "output_type": "stream",
     "text": [
      "2360\n",
      "3776\n",
      "1416\n",
      "181720\n"
     ]
    }
   ],
   "source": [
    "a = int(input())\n",
    "b = input()\n",
    "\n",
    "for i in b[::-1]:\n",
    "    print(a*int(i))\n",
    "print(a*int(b))"
   ]
  },
  {
   "attachments": {},
   "cell_type": "markdown",
   "metadata": {},
   "source": [
    "## 2884번 : 알람 시계\n",
    "- 45분 미만이면 시 단위가 바뀌는데 0시 일경우 23으로 바꿔줘야함.\n",
    "- 다만, 아래 코드는 왜 안되는가? 반례가 궁금."
   ]
  },
  {
   "cell_type": "code",
   "execution_count": 23,
   "metadata": {},
   "outputs": [
    {
     "name": "stdout",
     "output_type": "stream",
     "text": [
      "22 55\n"
     ]
    }
   ],
   "source": [
    "H, M = list(map(int, input().split()))\n",
    "\n",
    "if M >= 45:\n",
    "    M -= 45\n",
    "\n",
    "else : # M < 45\n",
    "    if H == 0:\n",
    "        H = 23\n",
    "        M += 15\n",
    "    \n",
    "    else:\n",
    "        H -= 1\n",
    "        M += 15\n",
    "\n",
    "print(H, M)"
   ]
  },
  {
   "cell_type": "code",
   "execution_count": 21,
   "metadata": {},
   "outputs": [
    {
     "name": "stdout",
     "output_type": "stream",
     "text": [
      "22 55\n"
     ]
    }
   ],
   "source": [
    "# ??????????????????? 어떤 반례가 있지?\n",
    "\n",
    "# H, M = list(map(int, input().split()))\n",
    "\n",
    "# if (H == 0) and (H < 45): # 0 45\n",
    "#     H = 23\n",
    "#     M += 15\n",
    "\n",
    "# elif M >= 45:\n",
    "#     M -= 45\n",
    "\n",
    "# else:\n",
    "#     H -= 1\n",
    "#     M += 15\n",
    "\n",
    "# print(H, M)"
   ]
  },
  {
   "attachments": {},
   "cell_type": "markdown",
   "metadata": {},
   "source": [
    "## 10818번 : 최소, 최대"
   ]
  },
  {
   "cell_type": "code",
   "execution_count": 25,
   "metadata": {},
   "outputs": [
    {
     "name": "stdout",
     "output_type": "stream",
     "text": [
      "7 35\n"
     ]
    }
   ],
   "source": [
    "N = int(input())\n",
    "ls = list(map(int, input().split()))\n",
    "\n",
    "print(min(ls), max(ls))"
   ]
  },
  {
   "attachments": {},
   "cell_type": "markdown",
   "metadata": {},
   "source": [
    "## 2525번 : 오븐 시계"
   ]
  },
  {
   "cell_type": "code",
   "execution_count": 29,
   "metadata": {},
   "outputs": [
    {
     "name": "stdout",
     "output_type": "stream",
     "text": [
      "19 0\n"
     ]
    }
   ],
   "source": [
    "H, M = map(int, input().split())\n",
    "a = int(input())\n",
    "\n",
    "if (M+a) < 60: # 60분은 없다.(59에서 0분으로)\n",
    "    M += a\n",
    "else:\n",
    "    add_H = (M+a)//60 # 60분 = 1시간\n",
    "    H += add_H\n",
    "    \n",
    "    M = (M+a)%60 # 분은 60미만이기에 60으로 나눈 나머지\n",
    "    \n",
    "    while H >= 24:\n",
    "        H -= 24 # 24 넘어가면 0으로 초기화\n",
    "\n",
    "print(H, M)"
   ]
  },
  {
   "attachments": {},
   "cell_type": "markdown",
   "metadata": {},
   "source": [
    "---\n",
    "# Bronze2"
   ]
  },
  {
   "attachments": {},
   "cell_type": "markdown",
   "metadata": {},
   "source": [
    "## 8958번 : OX퀴즈\n",
    "- O일 때 연속적으로 증가하는 변수 count와\n",
    "- count를 누적시키는 sum만 있으면 됌"
   ]
  },
  {
   "cell_type": "code",
   "execution_count": 33,
   "metadata": {},
   "outputs": [
    {
     "name": "stdout",
     "output_type": "stream",
     "text": [
      "10\n",
      "9\n",
      "7\n",
      "55\n",
      "30\n"
     ]
    }
   ],
   "source": [
    "N = int(input())\n",
    "for _ in range(N):\n",
    "    st = input()\n",
    "    count = 0\n",
    "    sum = 0\n",
    "\n",
    "    for i in st:\n",
    "        if i == 'O':\n",
    "            count += 1\n",
    "            sum += count\n",
    "        else:\n",
    "            count = 0\n",
    "\n",
    "    print(sum)"
   ]
  },
  {
   "attachments": {},
   "cell_type": "markdown",
   "metadata": {},
   "source": [
    "## 3052번 : 나머지"
   ]
  },
  {
   "cell_type": "code",
   "execution_count": 40,
   "metadata": {},
   "outputs": [
    {
     "name": "stdout",
     "output_type": "stream",
     "text": [
      "10\n"
     ]
    }
   ],
   "source": [
    "S = set()\n",
    "\n",
    "for _ in range(10):\n",
    "    a = int(input())\n",
    "    S.add(a%42)\n",
    "\n",
    "print(len(S))"
   ]
  },
  {
   "attachments": {},
   "cell_type": "markdown",
   "metadata": {},
   "source": [
    "## 1152번 : 단어의 개수\n",
    "> **결과는 print로 무조건 써주도록 하자.**"
   ]
  },
  {
   "cell_type": "code",
   "execution_count": 46,
   "metadata": {},
   "outputs": [
    {
     "name": "stdout",
     "output_type": "stream",
     "text": [
      "6\n"
     ]
    }
   ],
   "source": [
    "ls = list(input().split())\n",
    "print(len(ls))"
   ]
  },
  {
   "attachments": {},
   "cell_type": "markdown",
   "metadata": {},
   "source": [
    "---\n",
    "# Bronze1"
   ]
  },
  {
   "cell_type": "code",
   "execution_count": null,
   "metadata": {},
   "outputs": [],
   "source": []
  },
  {
   "cell_type": "code",
   "execution_count": null,
   "metadata": {},
   "outputs": [],
   "source": []
  },
  {
   "cell_type": "code",
   "execution_count": null,
   "metadata": {},
   "outputs": [],
   "source": []
  },
  {
   "cell_type": "code",
   "execution_count": null,
   "metadata": {},
   "outputs": [],
   "source": []
  }
 ],
 "metadata": {
  "kernelspec": {
   "display_name": "base",
   "language": "python",
   "name": "python3"
  },
  "language_info": {
   "codemirror_mode": {
    "name": "ipython",
    "version": 3
   },
   "file_extension": ".py",
   "mimetype": "text/x-python",
   "name": "python",
   "nbconvert_exporter": "python",
   "pygments_lexer": "ipython3",
   "version": "3.8.5"
  },
  "orig_nbformat": 4
 },
 "nbformat": 4,
 "nbformat_minor": 2
}
