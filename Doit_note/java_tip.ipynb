{
 "cells": [
  {
   "attachments": {},
   "cell_type": "markdown",
   "metadata": {},
   "source": [
    "# JAVA_tip"
   ]
  },
  {
   "attachments": {},
   "cell_type": "markdown",
   "metadata": {},
   "source": [
    "---\n"
   ]
  },
  {
   "attachments": {},
   "cell_type": "markdown",
   "metadata": {},
   "source": [
    "# 정수끼리 나눌 때"
   ]
  },
  {
   "attachments": {},
   "cell_type": "markdown",
   "metadata": {},
   "source": [
    "아래와 같이 실행했을 때 곱하기 나누기의 순서에 따라 결과값이 다르게 나온다.  \n",
    "100.0을 통해 암시적 형변환을 유도했는데도 말이다.\n",
    "정확한 계산은 1,2,3번째 경우이다. 4번째 경우는 왜 틀렸을까?  \n",
    "<br>\n",
    "sum / n_max에서 정수끼리 나누었기 때문에 소수점이 사라지기 떄문이다.  \n",
    "2번째 계산은 처음부터 sum이 double이기 때문에 이후의 정수와의 계산에서, 암시적 형변환으로 다 dobule로 바뀌게 되어 오류가 발생하지 않는다. (3번째 경우도 마찬가지)\n",
    "<br>\n",
    "> 따라서 정수끼리 나누는 경우에서는 실수를 방지하기 위해 맨 앞에 float나 double을 명시적으로 적어주자.  \n",
    "혹은 1.0을 앞에 곱해주거나!"
   ]
  },
  {
   "cell_type": "code",
   "execution_count": null,
   "metadata": {},
   "outputs": [],
   "source": [
    "int sum = 40 + 80 + 60\n",
    "int n_max = 80\n",
    "int n = 3\n",
    "\n",
    "System.out.println(sum * 100.0 / n_max / n); // 75.0\n",
    "System.out.println((double)sum / n_max * 100.0 / n); // 75.0\n",
    "System.out.println(1.0 * sum / n_max * 100.0 / n); // 75.0\n",
    "System.out.println(sum / n_max * 100.0 / n); // 66.66666666666667"
   ]
  },
  {
   "attachments": {},
   "cell_type": "markdown",
   "metadata": {},
   "source": [
    "<br><br><br><br>"
   ]
  },
  {
   "attachments": {},
   "cell_type": "markdown",
   "metadata": {},
   "source": [
    "---\n",
    "# BufferReader & StringTokenizer"
   ]
  },
  {
   "attachments": {},
   "cell_type": "markdown",
   "metadata": {},
   "source": [
    "## 1. BufferReader"
   ]
  },
  {
   "attachments": {},
   "cell_type": "markdown",
   "metadata": {},
   "source": [
    "### 1) 문자 기준으로 나누어 받기"
   ]
  },
  {
   "attachments": {},
   "cell_type": "markdown",
   "metadata": {},
   "source": [
    "아래 예제에서는 sc.nextInt()를 12번 호출하는건 비효율적이다.  \n",
    "그래서 문자열에 최적화된 Bufferreader를 활용하여 한 줄을 문자열로 받고 공백을 기준으로 split한다!  \n",
    "다만 문자열로 데이터를 쪼개기 때문에, Integer.valueOf(s[0])과 같이 형변환 처리를 해줘야함.\n",
    "- `BufferedReader br = new BufferedReader(new InputStreamReader(System.in));`\n",
    "- `br.readLine().split(\" \")`"
   ]
  },
  {
   "cell_type": "code",
   "execution_count": null,
   "metadata": {},
   "outputs": [],
   "source": [
    "# 1 2 3 4 5 6 7 8 9 10 11 12 // 한줄 입력\n",
    "\n",
    "BufferedReader br = new BufferedReader(new InputStreamReader(System.in));\n",
    "String[] s = br.readLine().split(\" \");"
   ]
  },
  {
   "attachments": {},
   "cell_type": "markdown",
   "metadata": {},
   "source": [
    "<br>\n",
    "\n",
    "### 2) 붙어있는 문자열을 문자로 쪼개기"
   ]
  },
  {
   "attachments": {},
   "cell_type": "markdown",
   "metadata": {},
   "source": [
    "- `br.readLine().toCharArray()`"
   ]
  },
  {
   "cell_type": "code",
   "execution_count": null,
   "metadata": {},
   "outputs": [],
   "source": [
    "# ABCD // 한줄 입력\n",
    "\n",
    "BufferedReader br = new BufferedReader(new InputStreamReader(System.in));\n",
    "char[] s = br.readLine().toCharArray()"
   ]
  },
  {
   "attachments": {},
   "cell_type": "markdown",
   "metadata": {},
   "source": [
    "<br><br>"
   ]
  },
  {
   "attachments": {},
   "cell_type": "markdown",
   "metadata": {},
   "source": [
    "## 2. StringTokenizer"
   ]
  },
  {
   "attachments": {},
   "cell_type": "markdown",
   "metadata": {},
   "source": [
    "### 1) Scanner보다 빠르게 한 단어씩 가져오기"
   ]
  },
  {
   "attachments": {},
   "cell_type": "markdown",
   "metadata": {},
   "source": [
    "StringTokenizer는 공백을 땡겨와서, 단어를 token으로 보고 처리한다.  \n",
    "**그래서 br의 readLine을 통해서 한 줄을 읽어 들이고, 공백기준으로 단어를 자를 수 있다!**\n",
    "\n",
    "StringTokenizer가 BufferedReader보다 빠르다.  \n",
    "br의 split은 공백 뿐만 아니라 다른 문자를 기준으로 자르는 로직이 있기 때문.  \n",
    "그에 반해 st는 단순히 공백만 땡겨와 자른다.\n",
    "\n",
    "- `BufferedReader br = new BufferedReader(new InputStreamReader(System.in);`\n",
    "- `StringTokenizer st = new StringTokenizer(br.readLine());`\n",
    "- `st.nextToken();`"
   ]
  },
  {
   "cell_type": "code",
   "execution_count": null,
   "metadata": {},
   "outputs": [],
   "source": [
    "BufferedReader br = new BufferedReader(new InputStreamReader(System.in);\n",
    "StringTokenizer st = new StringTokenizer(br.readLine());\n",
    "\n",
    "// AB CDD EFFF GH 입력\n",
    "\n",
    "st.nextToken() // AB\n",
    "st.nextToken() // CDD\n",
    "st.nextToken() // EFFF\n",
    "st.nextToken() // GH\n",
    "\n",
    "# while(st.hasMoreTokens())을 사용해서 연속적으로 받을 수도 있다.\n",
    "while(st.hasMoreTokens()) { \n",
    "    int temp = Integet.valueOf(st.nextToken()); \n",
    "}"
   ]
  },
  {
   "attachments": {},
   "cell_type": "markdown",
   "metadata": {},
   "source": [
    "다만 br.reaLine()으로 한 줄을 읽어들여, 그 문자열을 가진 객체로 생성하기 때문에  \n",
    "**다음 줄을 받으려면 또 객체를 생성해서 nextToken()을 통해 단어를 읽어들어야하는 번거로움이 크다.**  "
   ]
  },
  {
   "attachments": {},
   "cell_type": "markdown",
   "metadata": {},
   "source": [
    "<br>"
   ]
  },
  {
   "attachments": {},
   "cell_type": "markdown",
   "metadata": {},
   "source": [
    "### 2) 공백이 아닌 문자로 자르기"
   ]
  },
  {
   "attachments": {},
   "cell_type": "markdown",
   "metadata": {},
   "source": [
    "당연히 한 줄을 한꺼번에 받는 방법도 있다.  \n",
    "공백을 기준으로 “this is my string” 이라는 문자열을 this, is, my, string 4개의 문자열로 자른다.\n",
    "\n",
    "공백말고도 다른 구획문자(delimiter)를 사용할수도 있다.   \n",
    "예를들어 this%is%my%string을 delimiter에 %를 넣어 StringTokenizer를 사용하면  \n",
    "마찬가지로 this, is, my, string으로 읽어준다.  \n",
    "thismy%string^일때 구획문자를 “$%^”라고 설정해주면 this, is, my, string 으로 끊어준다.  \n"
   ]
  },
  {
   "cell_type": "code",
   "execution_count": null,
   "metadata": {},
   "outputs": [],
   "source": [
    "String str = \"this%%is%%my%%string\"; \n",
    "StringTokenizer st = new StringTokenizer(str,\"%%\"); \n",
    "\n",
    "while(st.hasMoreTokens()) { \n",
    "    System.out.println(st.nextToken()); \n",
    "}"
   ]
  },
  {
   "attachments": {},
   "cell_type": "markdown",
   "metadata": {},
   "source": [
    "<br><br>"
   ]
  },
  {
   "attachments": {},
   "cell_type": "markdown",
   "metadata": {},
   "source": [
    "## 3. IOException"
   ]
  },
  {
   "attachments": {},
   "cell_type": "markdown",
   "metadata": {},
   "source": [
    "자바는 입력과 출력을 할 때 발생할 수 있는 예외에 대해 까다롭게 규정하고 있다.  \n",
    "그래서 입출력시 예외처리를 하지 않으면 컴파일에러가 발생한다.  \n",
    "그러나 자바는 다음 3개의 메소드에 대해서는 예외처리를 기본적으로 적용해놨다.\n",
    "- print() / printf() / println()\n",
    "<br>\n",
    "\n",
    "따라서 write()메소드나 StringTokenizer 등을 사용할 때는 IOExcepion을 적용해줘야한다.  \n",
    "사용하는 방법으로는 예외처리가 필요한 메소드의 매개변수 입력 다음에 `throws IOException`을 적어주면된다.  \n",
    "보통 입력은 main메소드에서 사용되기에 아래와 같이 만들어주면 된다."
   ]
  },
  {
   "cell_type": "code",
   "execution_count": null,
   "metadata": {},
   "outputs": [],
   "source": [
    "public static void main(String[] args) throws IOException {}"
   ]
  },
  {
   "attachments": {},
   "cell_type": "markdown",
   "metadata": {},
   "source": [
    "<br><br>"
   ]
  },
  {
   "attachments": {},
   "cell_type": "markdown",
   "metadata": {},
   "source": [
    "## 4. 필수 암기(정리)"
   ]
  },
  {
   "attachments": {},
   "cell_type": "markdown",
   "metadata": {},
   "source": [
    "- import 4가지(각단어 앞글자 대문자)\n",
    "  - `io.IOException` E 도 대문자\n",
    "  - `io.BufferedReader`  ed 빼먹지 말기\n",
    "  - `io.InputStreamReader`\n",
    "  - `util.StringTokenizer` 혼자 util임.\n",
    "\n",
    "- 입력 받는 main메소드에 `throws IOException` 적기 throws에 s조심\n",
    "- br, st 객체 생성\n",
    "  - `BufferedReader br = new BufferedReader(new InputStreamReader(System.in))`; new가 2개임\n",
    "  - `StringTokenizer st = new StringTokenizer(br.readLine())`;\n",
    "- br은 처음 한 번만 생성해주면되고, st는 한 줄씩 받을 때마다 매번 초기화해주기\n",
    "\n",
    "- st.nextToken()으로 단어를 가져올 때 `inter.valuOf()`안에다 꼭 넣어줘서 사용할 수 있는 형으로 변환하기.\n",
    "- 한 줄로 입력하여 배열에 담아줘야하는 경우라면, `while(st.hasMoreTokens()) {}` 를 사용하기"
   ]
  },
  {
   "cell_type": "code",
   "execution_count": null,
   "metadata": {},
   "outputs": [],
   "source": [
    "# 5 0\n",
    "# 5 4 3 2 1\n",
    "# 를 입력받아 5,4,3,2,1 출력\n",
    "import java.io.IOException;\n",
    "import java.io.BufferedReader;\n",
    "import java.io.InputStreamReader;\n",
    "import java.util.StringTokenizer;\n",
    "\n",
    "public class test {\n",
    "\tpublic static void main(String[] args) throws IOException {\n",
    "\t\tBufferedReader br = new BufferedReader(new InputStreamReader(System.in));\n",
    "\t\tStringTokenizer st = new StringTokenizer(br.readLine());\n",
    "\t\t\n",
    "\t\tint a = Integer.valueOf(st.nextToken());\n",
    "\t\tint b = Integer.valueOf(st.nextToken());\n",
    "\t\t\n",
    "\t\tint[] arr = new int[a];\n",
    "\t\tst = new StringTokenizer(br.readLine());\n",
    "\t\tint i=0;\n",
    "\t\twhile(st.hasMoreTokens()) {\n",
    "\t\t\tarr[i] = Integer.valueOf(st.nextToken());\n",
    "\t\t\ti++;\n",
    "\t\t}\n",
    "\t\t\n",
    "\t\tfor (i=0; i<a; i++) {\n",
    "\t\t\tSystem.out.println(arr[i]);\n",
    "\t\t}\n",
    "\t\t\n",
    "\t}\n",
    "}"
   ]
  },
  {
   "attachments": {},
   "cell_type": "markdown",
   "metadata": {},
   "source": [
    "<br><br><br><br>"
   ]
  },
  {
   "attachments": {},
   "cell_type": "markdown",
   "metadata": {},
   "source": [
    "---\n",
    "# 정렬"
   ]
  },
  {
   "attachments": {},
   "cell_type": "markdown",
   "metadata": {},
   "source": [
    "자바에서는 오름차순 정렬 메소드를 제공하고 있음.  \n",
    "Arrays클래스에서 nlogn 시간복잡도의 sort() 메소드\n",
    "- `Arrays.sort(배열명);`"
   ]
  },
  {
   "cell_type": "code",
   "execution_count": null,
   "metadata": {},
   "outputs": [],
   "source": []
  },
  {
   "cell_type": "code",
   "execution_count": null,
   "metadata": {},
   "outputs": [],
   "source": []
  },
  {
   "attachments": {},
   "cell_type": "markdown",
   "metadata": {},
   "source": [
    "<br><br><br><br>"
   ]
  }
 ],
 "metadata": {
  "language_info": {
   "name": "python"
  },
  "orig_nbformat": 4
 },
 "nbformat": 4,
 "nbformat_minor": 2
}
