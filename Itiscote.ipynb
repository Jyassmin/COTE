{
 "cells": [
  {
   "attachments": {},
   "cell_type": "markdown",
   "metadata": {},
   "source": [
    "이것이 코딩테스트다!"
   ]
  },
  {
   "attachments": {},
   "cell_type": "markdown",
   "metadata": {},
   "source": [
    "---\n",
    "# 1. Greedy"
   ]
  },
  {
   "attachments": {},
   "cell_type": "markdown",
   "metadata": {},
   "source": [
    "## 1-1. 큰 수의 법칙"
   ]
  },
  {
   "cell_type": "code",
   "execution_count": 40,
   "metadata": {},
   "outputs": [],
   "source": [
    "# n개의 수들을 m번 더하여 가장 큰 수를 만드는데, 특정 인덱스의 수가 연속해서 k번 초과하여 더할 수 없다.\n",
    "\n",
    "# n, m, k = map(int, input().split())\n",
    "# ls = list(map(int, input().split()))\n",
    "\n",
    "n, m, k = 5, 8, 3\n",
    "ls = [2,4,5,4,6]"
   ]
  },
  {
   "cell_type": "code",
   "execution_count": 25,
   "metadata": {},
   "outputs": [
    {
     "name": "stdout",
     "output_type": "stream",
     "text": [
      "46\n"
     ]
    }
   ],
   "source": [
    "# case1\n",
    "# 여기서 사용하는 수는 가장큰 2개의 수가 필요하다. -> 정렬해서 큰 수 2개 추출\n",
    "# 포문으로 가장 큰 수 3번 더하고, 두번째로 큰 수 1번 더하고를 반복하여 m이 0일 때까지 진행.\n",
    "\n",
    "ls.sort()\n",
    "first = ls[n-1]\n",
    "second = ls[n-2]\n",
    "\n",
    "\n",
    "sum = 0\n",
    "while True:\n",
    "    for i in range(k): # k번 연속 first를 더함\n",
    "        sum += first\n",
    "        m -= 1\n",
    "        if m == 0:\n",
    "            break\n",
    "    \n",
    "    sum += second # 3번 더한 뒤 second를 한 번 더함\n",
    "    m -= 1\n",
    "    if m == 0:\n",
    "        break\n",
    "\n",
    "print(sum)"
   ]
  },
  {
   "cell_type": "code",
   "execution_count": 39,
   "metadata": {},
   "outputs": [
    {
     "name": "stdout",
     "output_type": "stream",
     "text": [
      "46\n"
     ]
    }
   ],
   "source": [
    "# case2 : n이 상당히 클 때는 수열이 반복되는 특성을 활용해서 풀기\n",
    "ls.sort()\n",
    "first = ls[n-1]\n",
    "second = ls[n-2]\n",
    "\n",
    "count = m//(k+1)*k + m%(k+1) # 가장 큰 수가 더해지는 횟수\n",
    "\n",
    "result = 0 \n",
    "result += count*first\n",
    "result += (m-count)*second\n",
    "\n",
    "print(result)"
   ]
  },
  {
   "attachments": {},
   "cell_type": "markdown",
   "metadata": {},
   "source": [
    "## 1-2. 숫자 카드 게임"
   ]
  },
  {
   "cell_type": "code",
   "execution_count": 50,
   "metadata": {},
   "outputs": [],
   "source": [
    "# 높은 숫자를 뽑는 게임이지만, 선택한 행에서 가장 낮은 숫자를 뽑아야하기에 최소 숫자가 가장 큰 행을 골라야한다.\n",
    "n, m = 2, 4\n",
    "data1 = [7,3,1,8]\n",
    "data2 = [3,3,3,4]"
   ]
  },
  {
   "cell_type": "code",
   "execution_count": 53,
   "metadata": {},
   "outputs": [
    {
     "name": "stdout",
     "output_type": "stream",
     "text": [
      "3\n"
     ]
    }
   ],
   "source": [
    "# case1\n",
    "\n",
    "data = [data1,data2]\n",
    "result = min(data[0]) # 임시\n",
    "\n",
    "for i in range(n):\n",
    "    if result <= min(data[i]):\n",
    "        result = min(data[i])\n",
    "\n",
    "print(result)"
   ]
  },
  {
   "cell_type": "code",
   "execution_count": 54,
   "metadata": {},
   "outputs": [
    {
     "name": "stdout",
     "output_type": "stream",
     "text": [
      "3\n"
     ]
    }
   ],
   "source": [
    "# case2 : min 사용\n",
    "\n",
    "n, m = map(int, input().split())\n",
    "\n",
    "result = 0\n",
    "for i in range(n):\n",
    "    data = list(map(int, input().split()))\n",
    "    min_value = min(data)\n",
    "    result = max(result, min_value)\n",
    "\n",
    "print(result)"
   ]
  },
  {
   "attachments": {},
   "cell_type": "markdown",
   "metadata": {},
   "source": [
    "## 1-3. 1이 될 때까지"
   ]
  },
  {
   "cell_type": "code",
   "execution_count": 58,
   "metadata": {},
   "outputs": [],
   "source": [
    "n, k = 25, 5"
   ]
  },
  {
   "cell_type": "code",
   "execution_count": 59,
   "metadata": {},
   "outputs": [
    {
     "name": "stdout",
     "output_type": "stream",
     "text": [
      "2\n"
     ]
    }
   ],
   "source": [
    "# 1) n에서 1을 뺀다.\n",
    "# 2) n이 k로 나누어질 때 나눈다.\n",
    "# 1,2 연산을 통해 1로 만들 때 최소 연산 횟수를 구하라.\n",
    "\n",
    "## if문을 통해 n이 k로 나누어 떨어질 때(n%k가 0일 때) 나누고 아니면 -1 해라. 이를 count!\n",
    "## 나누기를 많이 해서 n을 최대한 많이 줄이자. 나누기 우선으로 if문 작성(이는 k가 2이상일 때 최적해라는 정당성을 가짐)\n",
    "\n",
    "result=0\n",
    "while True:\n",
    "    if n%k == 0:\n",
    "        n = n//k\n",
    "    \n",
    "    else:\n",
    "        n -= 1\n",
    "    \n",
    "    result += 1\n",
    "    if n == 1:\n",
    "        break\n",
    "\n",
    "print(result)"
   ]
  },
  {
   "attachments": {},
   "cell_type": "markdown",
   "metadata": {},
   "source": [
    "---\n",
    "# 2. 구현"
   ]
  },
  {
   "attachments": {},
   "cell_type": "markdown",
   "metadata": {},
   "source": [
    "## 2-1. 상하좌우"
   ]
  },
  {
   "cell_type": "code",
   "execution_count": 61,
   "metadata": {},
   "outputs": [],
   "source": [
    "# 입력데이터\n",
    "N = 5\n",
    "data = ['R', 'R', 'R', 'U', 'D', 'D']\n",
    "\n",
    "# (1,1)에서 시작\n",
    "x, y = 1, 1"
   ]
  },
  {
   "cell_type": "code",
   "execution_count": 67,
   "metadata": {},
   "outputs": [
    {
     "name": "stdout",
     "output_type": "stream",
     "text": [
      "3 4\n"
     ]
    }
   ],
   "source": [
    "for i in range(len(data)):\n",
    "    if data[i] == 'R':\n",
    "        y+=1\n",
    "        if y>N:\n",
    "            y-=1\n",
    "    elif data[i] == 'L':\n",
    "        y-=1\n",
    "        if y<N:\n",
    "            y+=1\n",
    "    elif data[i] == 'U':\n",
    "        x-=1\n",
    "        if x<N:\n",
    "            x+=1\n",
    "    else:\n",
    "        x+=1\n",
    "        if x>N:\n",
    "            x-=1\n",
    "print(x,y)"
   ]
  },
  {
   "attachments": {},
   "cell_type": "markdown",
   "metadata": {},
   "source": [
    "## 2-2. 시각"
   ]
  },
  {
   "cell_type": "code",
   "execution_count": 68,
   "metadata": {},
   "outputs": [],
   "source": [
    "# 00:00:00 ~ N:59:59 사이의 시각 중 3이 포함되는 경우의 수\n",
    "# N : 0~23\n",
    "\n",
    "# 완전 탐색 알고리즘!!\n",
    "# 24*60*60 개의 경우의 수를 3중 반복문으로 돌리면서 counts!"
   ]
  },
  {
   "cell_type": "code",
   "execution_count": 72,
   "metadata": {},
   "outputs": [
    {
     "name": "stdout",
     "output_type": "stream",
     "text": [
      "11475\n"
     ]
    }
   ],
   "source": [
    "n = int(input())\n",
    "count = 0\n",
    "for i in range(n+1):\n",
    "    for j in range(60):\n",
    "        for k in range(60):\n",
    "            if '3' in str(i)+str(j)+str(k):\n",
    "                count += 1\n",
    "\n",
    "print(count)"
   ]
  },
  {
   "cell_type": "code",
   "execution_count": null,
   "metadata": {},
   "outputs": [],
   "source": []
  },
  {
   "cell_type": "code",
   "execution_count": null,
   "metadata": {},
   "outputs": [],
   "source": []
  },
  {
   "cell_type": "code",
   "execution_count": null,
   "metadata": {},
   "outputs": [],
   "source": []
  },
  {
   "cell_type": "code",
   "execution_count": null,
   "metadata": {},
   "outputs": [],
   "source": []
  },
  {
   "cell_type": "code",
   "execution_count": null,
   "metadata": {},
   "outputs": [],
   "source": []
  },
  {
   "cell_type": "code",
   "execution_count": null,
   "metadata": {},
   "outputs": [],
   "source": []
  },
  {
   "cell_type": "code",
   "execution_count": null,
   "metadata": {},
   "outputs": [],
   "source": []
  },
  {
   "cell_type": "code",
   "execution_count": null,
   "metadata": {},
   "outputs": [],
   "source": []
  }
 ],
 "metadata": {
  "kernelspec": {
   "display_name": "base",
   "language": "python",
   "name": "python3"
  },
  "language_info": {
   "codemirror_mode": {
    "name": "ipython",
    "version": 3
   },
   "file_extension": ".py",
   "mimetype": "text/x-python",
   "name": "python",
   "nbconvert_exporter": "python",
   "pygments_lexer": "ipython3",
   "version": "3.8.5"
  },
  "orig_nbformat": 4,
  "vscode": {
   "interpreter": {
    "hash": "c97f18ea1c0f4969cf594a5df9f14ba2a838cf106fc5300ddecce29d9d6f0c71"
   }
  }
 },
 "nbformat": 4,
 "nbformat_minor": 2
}
