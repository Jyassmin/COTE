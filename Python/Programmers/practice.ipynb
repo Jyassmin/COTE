{
 "cells": [
  {
   "cell_type": "markdown",
   "metadata": {},
   "source": [
    "# Programmers 연습문제\n",
    "---\n",
    "## 1. 과일장수"
   ]
  },
  {
   "cell_type": "code",
   "execution_count": 67,
   "metadata": {},
   "outputs": [],
   "source": [
    "# [목적] 최대이익을 계산하라\n",
    "##(최저 사과 점수) x (한 상자에 담긴 사과 개수) x (상자의 개수)\n",
    "\n",
    "# k : 최상품의 점수\n",
    "# p : 한 상자에 담긴 사과의 점수 중 가장 낮은 점수\n",
    "# m : 상자포장단위\n",
    "# 상자가격 : p*m\n",
    "\n",
    "def solution(k, m, score):\n",
    "    score.sort(reverse=True)\n",
    "    \n",
    "    n_box = len(score)//m\n",
    "    answer = 0\n",
    "\n",
    "    # 박스별 가격 계산\n",
    "    for i in range(n_box):\n",
    "        p = min(score[m*i : m*(i+1)])\n",
    "        answer += p*m\n",
    "\n",
    "    return answer"
   ]
  },
  {
   "cell_type": "code",
   "execution_count": 68,
   "metadata": {},
   "outputs": [
    {
     "data": {
      "text/plain": [
       "33"
      ]
     },
     "execution_count": 68,
     "metadata": {},
     "output_type": "execute_result"
    }
   ],
   "source": [
    "k=3\n",
    "m=3\n",
    "score=[4, 1, 2, 2, 4, 4, 4, 4, 1, 2, 4, 2]\n",
    "solution(k,m,score) # 33"
   ]
  },
  {
   "cell_type": "markdown",
   "metadata": {},
   "source": [
    "---\n",
    "## 2. 푸드 파이트 대회"
   ]
  },
  {
   "cell_type": "code",
   "execution_count": 3,
   "metadata": {},
   "outputs": [],
   "source": [
    "# [목적] 두명의 푸드파이터가 먹을 칼로리 낮은 음식들의 배열\n",
    "# input : [\"1번음식의 갯수\", \"2번음식의 갯수\",,, \"n번 음식의 갯수]\n",
    "\n",
    "\n",
    "def solution(food):\n",
    "    length = len(food)\n",
    "    count=0\n",
    "    food_list = list()\n",
    "    answer = \"0\"\n",
    "    \n",
    "    # 먹을 음식 갯수 count\n",
    "    for i in range(length):\n",
    "        count = food[i]//2\n",
    "        for _ in range(count):\n",
    "            food_list.append(i)\n",
    "    \n",
    "    \n",
    "    # 배열 만들기\n",
    "    food_list.reverse()\n",
    "    for i in food_list:\n",
    "        answer =  str(i) + answer + str(i)\n",
    "    \n",
    "    return answer"
   ]
  },
  {
   "cell_type": "code",
   "execution_count": 4,
   "metadata": {},
   "outputs": [
    {
     "data": {
      "text/plain": [
       "'1223330333221'"
      ]
     },
     "execution_count": 4,
     "metadata": {},
     "output_type": "execute_result"
    }
   ],
   "source": [
    "food = [1, 3, 4, 6]\n",
    "solution(food) # \"1223330333221\""
   ]
  },
  {
   "cell_type": "markdown",
   "metadata": {},
   "source": [
    "---\n",
    "## 3. 햄버거 만들기"
   ]
  },
  {
   "cell_type": "code",
   "execution_count": 35,
   "metadata": {},
   "outputs": [],
   "source": [
    "# [목적] 포장하는 햄버거의 갯수는?\n",
    "# 1 : 빵\n",
    "# 2 : 야채\n",
    "# 3 : 고기\n",
    "# 햄버거 구성 : 빵-야채-고기-빵(1231)\n",
    "# 정해진 순서(아래서부터, 빵 – 야채 – 고기 - 빵)로 쌓인 햄버거만 포장\n",
    "\n",
    "# 리스트에서 4개 단위로 뽑는다. 9개가 있으면 0-3, 1-4,,, 5-8\n",
    "\n",
    "def solution(ingredient):\n",
    "    n_burger = 0\n",
    "    flag = 1\n",
    "    i=0\n",
    "    \n",
    "    while flag == 1:\n",
    "        flag = 0\n",
    "\n",
    "        while (i+4) <= len(ingredient):\n",
    "            sequence = ingredient[i:i+4]\n",
    "            \n",
    "            if sequence == [1, 2, 3, 1]: # 만들 버거가 있냐\n",
    "                del ingredient[i:i+4] # 만들 버거를 제외하고\n",
    "                n_burger += 1 # 버거수 +1\n",
    "                flag = 1 # 버거재료 다시 확인해봐라\n",
    "                i -= 3 # 버거가 만들어지면 처음으로 돌아가지말고 인덱스의 -2 까지만 돌아가라.\n",
    "                break\n",
    "            i += 1\n",
    "    \n",
    "    return n_burger"
   ]
  },
  {
   "cell_type": "code",
   "execution_count": 36,
   "metadata": {},
   "outputs": [
    {
     "data": {
      "text/plain": [
       "2"
      ]
     },
     "execution_count": 36,
     "metadata": {},
     "output_type": "execute_result"
    }
   ],
   "source": [
    "ingredient = [2, 1, 1, 2, 3, 1, 2, 3, 1] # 2\n",
    "# ingredient = [1, 3, 2, 1, 2, 1, 3, 1, 2] # 0\n",
    "solution(ingredient)"
   ]
  },
  {
   "cell_type": "markdown",
   "metadata": {},
   "source": [
    "---\n",
    "## 4. 옹알이(2)"
   ]
  },
  {
   "cell_type": "markdown",
   "metadata": {},
   "source": [
    "> # ****"
   ]
  },
  {
   "cell_type": "code",
   "execution_count": 24,
   "metadata": {},
   "outputs": [],
   "source": [
    "# [목적] 주어진 리스트에서 조카가 발음할 수 있는 단어(조합)는?\n",
    "# 발음가능 단어 : \"aya\", \"ye\", \"woo\", \"ma\"\n",
    "\n",
    "# \"yeye\"는 같은 발음이 연속되므로 발음할 수 없음\n",
    "# 연속, 하나를 지우면 다시 만들어지는 경우들 : [\"wooyemawooye\", \"mayaa\", \"ymaeaya\"]\n",
    "\n",
    "# Ponint!\n",
    "## replace를 사용해서 해당문자가 있으면 공백으로 만들어버린다.\n",
    "## \"\"로 바꾸는게 아니라 \" \"로 바꾸게되면 위 연속으로 다시 만들어지는 케이스를 방지할 수 있다.\n",
    "## \"ayaye\".replace(\"kk\", \" \") 처럼 replace는 해당 문자열에 없는 문자를 바꾸라도해도 오류가 안뜨니 막 써도 된다!\n",
    "\n",
    "def solution(babbling):\n",
    "    cnt = 0\n",
    "    for i in babbling:\n",
    "        for j in [ \"aya\", \"ye\", \"woo\", \"ma\" ]:\n",
    "            if j*2 in i : break # 연속된 문자열을 골라내기 위함.     \n",
    "            i = i.replace(j, ' ')  #\" \"로 바꾸어 연속으로 다시 만들어지는 케이스를 방지\n",
    "        \n",
    "        if len(i.strip()) == 0:\n",
    "            cnt += 1\n",
    "            \n",
    "    return cnt"
   ]
  },
  {
   "cell_type": "code",
   "execution_count": 25,
   "metadata": {},
   "outputs": [
    {
     "data": {
      "text/plain": [
       "1"
      ]
     },
     "execution_count": 25,
     "metadata": {},
     "output_type": "execute_result"
    }
   ],
   "source": [
    "babbling = [\"aya\", \"yee\", \"u\", \"maa\"]\n",
    "solution(babbling) # 1"
   ]
  },
  {
   "cell_type": "code",
   "execution_count": 26,
   "metadata": {},
   "outputs": [
    {
     "data": {
      "text/plain": [
       "2"
      ]
     },
     "execution_count": 26,
     "metadata": {},
     "output_type": "execute_result"
    }
   ],
   "source": [
    "babbling = [\"ayaye\", \"uuu\", \"yeye\", \"yemawoo\", \"ayaayaa\"]\n",
    "solution(babbling) # 2"
   ]
  },
  {
   "cell_type": "markdown",
   "metadata": {},
   "source": [
    "---\n",
    "5. 기사단원의 무기"
   ]
  },
  {
   "cell_type": "code",
   "execution_count": 94,
   "metadata": {},
   "outputs": [],
   "source": [
    "# 각 기사는 자기 번호의 약수 개수에 해당하는 공격력을 가진 무기를 구매\n",
    "# 공격력 제한있음 -> 초과하면 지정된 공격력으로\n",
    "# 1공격력 = 1kg철\n",
    "\n",
    "# point\n",
    "# 1) 기사단원에 따라 약수구하기\n",
    "# 2) 약수 갯수가 limit를 초과하면 power고 아니면 약수 갯수대로 공격력 지정\n",
    "# 3) retrun 공격력\n",
    "\n",
    "def weak_num(n):\n",
    "    st = set()\n",
    "    cnt = 0\n",
    "\n",
    "    if n==1 :\n",
    "        cnt = 1\n",
    "    else:\n",
    "        for i in range(1, n//2+1):\n",
    "            if n%i == 0:\n",
    "                st.add(i)\n",
    "                st.add(-i)\n",
    "            if (n==i**2):\n",
    "                st.remove(-i)\n",
    "        cnt = len(st)\n",
    "    \n",
    "    return cnt\n",
    "\n",
    "def solution(number, limit, power):\n",
    "    \n",
    "    attack_power = 0\n",
    "    for i in range(1, number+1):\n",
    "        if weak_num(i) > limit:\n",
    "            attack_power += power\n",
    "            continue\n",
    "        attack_power += weak_num(i)\n",
    "\n",
    "    return attack_power"
   ]
  },
  {
   "cell_type": "code",
   "execution_count": 95,
   "metadata": {},
   "outputs": [
    {
     "data": {
      "text/plain": [
       "10"
      ]
     },
     "execution_count": 95,
     "metadata": {},
     "output_type": "execute_result"
    }
   ],
   "source": [
    "number = 5\n",
    "limit = 3\n",
    "power = 2\n",
    "solution(number, limit, power) # 10"
   ]
  },
  {
   "cell_type": "code",
   "execution_count": 96,
   "metadata": {},
   "outputs": [
    {
     "data": {
      "text/plain": [
       "21"
      ]
     },
     "execution_count": 96,
     "metadata": {},
     "output_type": "execute_result"
    }
   ],
   "source": [
    "number = 10\n",
    "limit = 3\n",
    "power = 2\n",
    "solution(number, limit, power) # 21"
   ]
  },
  {
   "cell_type": "code",
   "execution_count": 68,
   "metadata": {},
   "outputs": [
    {
     "ename": "SyntaxError",
     "evalue": "illegal target for annotation (2022180985.py, line 1)",
     "output_type": "error",
     "traceback": [
      "\u001b[0;36m  File \u001b[0;32m\"/var/folders/x3/lny9bbwx64b561c29r4y4z400000gn/T/ipykernel_69905/2022180985.py\"\u001b[0;36m, line \u001b[0;32m1\u001b[0m\n\u001b[0;31m    1 : 1\u001b[0m\n\u001b[0m    ^\u001b[0m\n\u001b[0;31mSyntaxError\u001b[0m\u001b[0;31m:\u001b[0m illegal target for annotation\n"
     ]
    }
   ],
   "source": [
    "1 : 1\n",
    "2 : 12\n",
    "3 : 13\n",
    "4 : 124\n",
    "5 : 15\n"
   ]
  },
  {
   "cell_type": "code",
   "execution_count": 92,
   "metadata": {},
   "outputs": [],
   "source": [
    "def weak_num(n):\n",
    "    st = set()\n",
    "    cnt = 0\n",
    "\n",
    "    if n==1 :\n",
    "        cnt = 1\n",
    "    else:\n",
    "        for i in range(1, n//2+1):\n",
    "            if n%i == 0:\n",
    "                st.add(i)\n",
    "                st.add(-i)\n",
    "            if (n==i**2):\n",
    "                st.remove(-i)\n",
    "        cnt = len(st)\n",
    "    \n",
    "    return cnt"
   ]
  },
  {
   "cell_type": "code",
   "execution_count": 93,
   "metadata": {},
   "outputs": [
    {
     "name": "stdout",
     "output_type": "stream",
     "text": [
      "1\n",
      "2\n",
      "2\n",
      "3\n",
      "2\n"
     ]
    }
   ],
   "source": [
    "print(weak_num(1))\n",
    "print(weak_num(2))\n",
    "print(weak_num(3))\n",
    "print(weak_num(4))\n",
    "print(weak_num(5))"
   ]
  },
  {
   "cell_type": "code",
   "execution_count": null,
   "metadata": {},
   "outputs": [],
   "source": []
  }
 ],
 "metadata": {
  "kernelspec": {
   "display_name": "Python 3.8.5 ('base')",
   "language": "python",
   "name": "python3"
  },
  "language_info": {
   "codemirror_mode": {
    "name": "ipython",
    "version": 3
   },
   "file_extension": ".py",
   "mimetype": "text/x-python",
   "name": "python",
   "nbconvert_exporter": "python",
   "pygments_lexer": "ipython3",
   "version": "3.8.5"
  },
  "orig_nbformat": 4,
  "vscode": {
   "interpreter": {
    "hash": "c97f18ea1c0f4969cf594a5df9f14ba2a838cf106fc5300ddecce29d9d6f0c71"
   }
  }
 },
 "nbformat": 4,
 "nbformat_minor": 2
}
